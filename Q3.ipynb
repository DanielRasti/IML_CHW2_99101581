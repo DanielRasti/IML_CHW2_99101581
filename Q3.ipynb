{
 "cells": [
  {
   "cell_type": "markdown",
   "id": "5f42a3ce",
   "metadata": {},
   "source": [
    "<h1 align=\"center\">Introduction to Machine Learning - 25737-2</h1>\n",
    "<h4 align=\"center\">Dr. R. Amiri</h4>\n",
    "<h4 align=\"center\">Sharif University of Technology, Spring 2024</h4>\n",
    "\n",
    "\n",
    "**<font color='red'>Plagiarism is strongly prohibited!</font>**\n",
    "\n",
    "\n",
    "**Student Name**:دانیال راستی\n",
    "\n",
    "**Student ID**:99101581\n",
    "\n",
    "\n",
    "\n"
   ]
  },
  {
   "cell_type": "markdown",
   "id": "a01c559e",
   "metadata": {},
   "source": [
    "## Importing Libraries\n",
    "\n",
    "First we import libraries that we need for this assignment."
   ]
  },
  {
   "cell_type": "code",
   "execution_count": 1,
   "id": "0423187e",
   "metadata": {},
   "outputs": [],
   "source": [
    "import numpy as np\n",
    "import pandas as pd\n",
    "import matplotlib.pyplot as plt\n",
    "\n",
    "# import any other libraries needed below\n",
    "from sklearn.model_selection import train_test_split\n",
    "np.set_printoptions(precision=3)\n",
    "from sklearn.naive_bayes import GaussianNB\n",
    "from sklearn.discriminant_analysis import LinearDiscriminantAnalysis\n",
    "from sklearn.metrics import accuracy_score"
   ]
  },
  {
   "cell_type": "markdown",
   "id": "2f795731",
   "metadata": {},
   "source": [
    "## Reading Data and Preprocessing\n",
    "\n",
    "In this section, we want to read data from a CSV file and then preprocess it to make it ready for the rest of the problem.\n",
    "\n",
    "First, we read the data in the cell below and extract an $m \\times n$ matrix, $X$, and an $m \\times 1$ vector, $Y$, from it, which represent our knowledge about the features of the data (`X1`, `X2`, `X3`) and the class (`Y`), respectively. Note that by $m$, we mean the number of data points and by $n$, we mean the number of features."
   ]
  },
  {
   "cell_type": "code",
   "execution_count": 2,
   "id": "410e750d",
   "metadata": {},
   "outputs": [
    {
     "name": "stdout",
     "output_type": "stream",
     "text": [
      "(10000, 3)\n",
      "(10000,)\n"
     ]
    }
   ],
   "source": [
    "X, Y = None, None\n",
    "\n",
    "### START CODE HERE ###\n",
    "# Read the data from the CSV file\n",
    "data = pd.read_csv(\"Q3/data2_logistic.csv\")\n",
    "\n",
    "# Separate features (X) and target (Y)\n",
    "X = data.iloc[:, :-1]  # Extract all columns except the last one\n",
    "Y = data.iloc[:, -1]   # Extract the last column\n",
    "\n",
    "# Display the shape of X and Y to verify\n",
    "\n",
    "### END CODE HERE ###\n",
    "\n",
    "print(X.shape)\n",
    "print(Y.shape)"
   ]
  },
  {
   "cell_type": "markdown",
   "id": "866734e2",
   "metadata": {},
   "source": [
    "Next, we should normalize our data. For normalizing a vector $\\mathbf{x}$, a very common method is to use this formula:\n",
    "\n",
    "$$\n",
    "\\mathbf{x}_{norm} = \\dfrac{\\mathbf{x} - \\overline{\\mathbf{x}}}{\\sigma_\\mathbf{x}}\n",
    "$$\n",
    "\n",
    "Here, $\\overline{x}$ and $\\sigma_\\mathbf{x}$ denote the mean and standard deviation of vector $\\mathbf{x}$, respectively. Use this formula and store the new $X$ and $Y$ vectors in the cell below.\n",
    "\n",
    "**Question**: Briefly explain why we need to normalize our data before starting the training.\n",
    "\n",
    "**Answer**: without normalizing, data scales are different and whit can cause problems. and also, normalizations helps with convergence speed in gradient decent."
   ]
  },
  {
   "cell_type": "code",
   "execution_count": 3,
   "id": "9e757eb0",
   "metadata": {},
   "outputs": [
    {
     "name": "stdout",
     "output_type": "stream",
     "text": [
      "Normalized X matrix:\n",
      "         X1        X2        X3\n",
      "0 -0.397126 -0.186205  1.399585\n",
      "1 -1.386763  1.674819  0.078818\n",
      "2 -1.585935  0.017018  1.684129\n",
      "3 -0.289065 -0.434201  0.887399\n",
      "4  0.454547 -1.248803  0.707707\n"
     ]
    }
   ],
   "source": [
    "### START CODE HERE ###\n",
    "# Calculate mean and standard deviation of each feature\n",
    "mean = X.mean()\n",
    "std_dev = X.std()\n",
    "\n",
    "# Subtract mean from each feature\n",
    "X_normalized = X - mean\n",
    "\n",
    "# Divide each feature by its standard deviation\n",
    "X_normalized = X_normalized / std_dev\n",
    "\n",
    "# Display the normalized feature matrix\n",
    "print(\"Normalized X matrix:\")\n",
    "print(X_normalized.head())\n",
    "### END CODE HERE ###"
   ]
  },
  {
   "cell_type": "markdown",
   "id": "5465bfa4",
   "metadata": {},
   "source": [
    "Finally, we should add a column of $1$s at the beginning of $X$ to represent the bias term. Do this in the next cell. Note that after this process, $X$ should be an $m \\times (n+1)$ matrix."
   ]
  },
  {
   "cell_type": "code",
   "execution_count": 4,
   "id": "b9a60f1f",
   "metadata": {},
   "outputs": [
    {
     "name": "stdout",
     "output_type": "stream",
     "text": [
      "(10000, 4)\n"
     ]
    }
   ],
   "source": [
    "### START CODE HERE ###\n",
    "\n",
    "# Add a column of 1s to represent the bias term\n",
    "X = np.column_stack((np.ones(len(X_normalized)), X_normalized))\n",
    "\n",
    "### END CODE HERE ###\n",
    "\n",
    "print(X.shape)"
   ]
  },
  {
   "cell_type": "markdown",
   "id": "5cdf0d78",
   "metadata": {},
   "source": [
    "## Training Model"
   ]
  },
  {
   "cell_type": "markdown",
   "id": "c8714abe",
   "metadata": {},
   "source": [
    "### Sigmoid Function\n",
    "You should begin by implementing the $\\sigma(\\mathbf{x})$ function. Recall that the logistic regression hypothesis $\\mathcal{h}()$ is defined as:\n",
    "$$\n",
    "\\mathcal{h}_{\\theta}(\\mathbf{x}) = \\mathcal{g}(\\theta^\\mathbf{T}\\mathbf{x})\n",
    "$$\n",
    "where $\\mathcal{g}()$ is the sigmoid function as:\n",
    "$$\n",
    "\\mathcal{g}(\\mathbf{z}) = \\frac{1}{1+exp^{-\\mathbf{z}}}\n",
    "$$\n",
    "The Sigmoid function has the property that $\\mathbf{g}(+\\infty)\\approx 1$ and $\\mathcal{g}(−\\infty)\\approx0$. Test your function by calling `sigmoid(z)` on different test samples. Be certain that your sigmoid function works with both vectors and matrices - for either a vector or a matrix, your function should perform the sigmoid function on every element."
   ]
  },
  {
   "cell_type": "code",
   "execution_count": 5,
   "id": "6a6b6ae4",
   "metadata": {},
   "outputs": [],
   "source": [
    "def sigmoid(Z):\n",
    "    '''\n",
    "    Applies the sigmoid function on every element of Z\n",
    "    Arguments:\n",
    "        Z can be a (n,) vector or (n , m) matrix\n",
    "    Returns:\n",
    "        A vector/matrix, same shape with Z, that has the sigmoid function applied elementwise\n",
    "    '''\n",
    "    ### START CODE HERE ###\n",
    "    result = 1 / (1 + np.exp(-Z))\n",
    "    return result\n",
    "\n",
    "    ### END CODE HERE ###"
   ]
  },
  {
   "cell_type": "code",
   "execution_count": 6,
   "metadata": {},
   "outputs": [
    {
     "name": "stdout",
     "output_type": "stream",
     "text": [
      "[[7.311e-01 9.933e-01 5.000e-01 9.168e-01]\n",
      " [2.473e-03 9.111e-04 9.991e-01 1.000e+00]]\n"
     ]
    }
   ],
   "source": [
    "# testing sigmoind function \n",
    "np.set_printoptions(precision=3)\n",
    "test_matrix = np.array([[1,5,0,2.4],[-6,-7,7,112]])\n",
    "test_matrix_result =  sigmoid(test_matrix)\n",
    "print(test_matrix_result)\n"
   ]
  },
  {
   "cell_type": "markdown",
   "id": "83846074",
   "metadata": {},
   "source": [
    "### Cost Function \n",
    "Implement the functions to compute the cost function. Recall the cost function for logistic regression is a scalar value given by:\n",
    "$$\n",
    "\\mathcal{J}(\\theta) = \\sum_{i=1}^{n}[-y^{(i)}\\log{(\\mathcal{h}_\\theta(\\mathbf{x}^{(i)}))}-(1-y^{(i)})\\log{(1-\\mathcal{h}_\\theta(\\mathbf{x}^{(i)}))}] + \\frac{\\lambda}{2}||\\theta||_2^2\n",
    "$$"
   ]
  },
  {
   "cell_type": "code",
   "execution_count": 7,
   "id": "26a9bdeb",
   "metadata": {},
   "outputs": [],
   "source": [
    "def computeCost(theta, X, y, regLambda):\n",
    "    '''\n",
    "    Computes the objective function\n",
    "    Arguments:\n",
    "        theta is d-dimensional numpy vector\n",
    "        X is a n-by-d numpy matrix\n",
    "        y is an n-dimensional numpy vector\n",
    "        regLambda is the scalar regularization constant\n",
    "    Returns:\n",
    "        a scalar value of the cost  ** make certain you're not returning a 1 x 1 matrix! **\n",
    "    '''\n",
    "    \n",
    "    m, n = X.shape\n",
    "    loss = None\n",
    "    ### START CODE HERE ###\n",
    "    h = sigmoid(np.dot(X, theta))\n",
    "    term1 = np.dot(-y, np.log(h))\n",
    "    term2 = np.dot((1 - y), np.log(1 - h))\n",
    "    regularization_term = (regLambda / (2)) * np.sum(np.square(theta[1:]))  # Excluding theta[0] for regularization\n",
    "    loss = (1 / m) * (np.sum(term1 - term2) + regularization_term)\n",
    "    ### END CODE HERE ###\n",
    "    return loss"
   ]
  },
  {
   "cell_type": "markdown",
   "id": "6eaf1146",
   "metadata": {},
   "source": [
    "### Gradient of the Cost Function\n",
    "Now, we want to calculate the gradient of the cost function. The gradient of the cost function is a d-dimensional vector.\\\n",
    "We must be careful not to regularize the $\\theta_0$ parameter (corresponding to the first feature we add to each instance), and so the 0's element is given by:\n",
    "$$\n",
    "\\frac{\\partial \\mathcal{J}(\\theta)}{\\partial \\theta_0} = \\sum_{i=1}^n (\\mathcal{h}_\\theta(\\mathbf{x}^{(i)})-y^{(i)})\n",
    "$$\n",
    "\n",
    "Question: What is the answer to this problem for the $j^{th}$ element (for $j=1...d$)?\n",
    "\n",
    "Answer:the value that makes The gradient of the cost function with respect to the $j^{th) , zero  "
   ]
  },
  {
   "cell_type": "code",
   "execution_count": 8,
   "id": "35f7c2dd",
   "metadata": {},
   "outputs": [],
   "source": [
    "def computeGradient(theta, X, y, regLambda):\n",
    "    '''\n",
    "    Computes the gradient of the objective function\n",
    "    Arguments:\n",
    "        theta is d-dimensional numpy vector\n",
    "        X is a n-by-d numpy matrix\n",
    "        y is an n-dimensional numpy vector\n",
    "        regLambda is the scalar regularization constant\n",
    "    Returns:\n",
    "        the gradient, an d-dimensional vector\n",
    "    '''\n",
    "    \n",
    "    m, n = X.shape\n",
    "    grad = None\n",
    "    ### START CODE HERE ###\n",
    "    h = sigmoid(np.dot(X, theta))\n",
    "\n",
    "    # if (len(h)!=len(y)) or \n",
    "\n",
    "    grad = (1 / m) * np.dot(X.T, (h - y))\n",
    "    regularization_term = (2*regLambda) * theta\n",
    "    regularization_term[0] = 0  # Don't regularize bias term\n",
    "    grad += regularization_term\n",
    "    ### END CODE HERE ###\n",
    "    return grad"
   ]
  },
  {
   "cell_type": "markdown",
   "id": "24bc86bd",
   "metadata": {},
   "source": [
    "### Training and Prediction\n",
    "Once you have the cost and gradient functions complete, implemen tthe fit and predict methods.\\\n",
    "Your fit method should train the model via gradient descent, relying on the cost and gradient functions. This function should return two parameters. The first parameter is $\\theta$, and the second parameter is a `numpy` array that contains the loss in each iteration. This array is indicated by `loss_history` in the code.\\\n",
    "Instead of simply running gradient descent for a specific number of iterations, we will use a more sophisticated method: we will stop it after the solution hasconverged. Stop the gradient descent procedure when $\\theta$ stops changing between consecutive iterations. You can detect this convergence when:\n",
    "$$\n",
    "||\\theta_{new}-\\theta_{old}||_2 <= \\epsilon,\n",
    "$$\n",
    "for some small $\\epsilon$ (e.g, $\\epsilon=10E-4$).\\\n",
    "For readability, we’d recommend implementing this convergence test as a dedicated function `hasConverged`."
   ]
  },
  {
   "cell_type": "code",
   "execution_count": 9,
   "id": "cc0cad78",
   "metadata": {},
   "outputs": [],
   "source": [
    "def fit(X, y, regLambda = 0.01, alpha = 0.01, epsilon = 2e-4, maxNumIters = 1000):\n",
    "    '''\n",
    "    Trains the model\n",
    "    Arguments:\n",
    "        X           is a n-by-d numpy matrix\n",
    "        y           is an n-dimensional numpy vector\n",
    "        maxNumIters is the maximum number of gradient descent iterations\n",
    "        regLambda   is the scalar regularization constant\n",
    "        epsilon     is the convergence rate\n",
    "        alpha       is the gradient descent learning rate\n",
    "    '''\n",
    "    \n",
    "    m, n = X.shape\n",
    "    theta = np.zeros(4)\n",
    "    loss_history = []\n",
    "    ### START CODE HERE ###\n",
    "    for i in range(maxNumIters):\n",
    "        old_theta = theta.copy()\n",
    "        grad = computeGradient(theta, X, y, regLambda)\n",
    "        theta -= alpha * grad\n",
    "        loss = computeCost(theta, X, y, regLambda)\n",
    "        loss_history.append(loss)\n",
    "        if hasConverged(old_theta, theta, epsilon):\n",
    "            break\n",
    "    ### END CODE HERE ###\n",
    "    return theta, loss_history\n",
    "\n",
    "\n",
    "\n",
    "\n",
    "def hasConverged(theta_old, theta_new, epsilon):\n",
    "    '''\n",
    "    Return if the theta converged or not\n",
    "    Arguments:\n",
    "        theta_old   is the theta calculated in prevoius iteration\n",
    "        theta_new   is the theta calculated in current iteration\n",
    "        epsilon     is the convergence rate\n",
    "    '''\n",
    "    \n",
    "    ### START CODE HERE ###\n",
    "    return np.linalg.norm(theta_new - theta_old) <= epsilon\n",
    "    ### END CODE HERE ###\n",
    "    return False"
   ]
  },
  {
   "cell_type": "markdown",
   "id": "bb648852",
   "metadata": {},
   "source": [
    "Finally, we want to evaluate our loss for this problem. Complete the cell below to calculate and print the loss of each iteration and the final theta of your model."
   ]
  },
  {
   "cell_type": "code",
   "execution_count": 21,
   "id": "252e556f",
   "metadata": {},
   "outputs": [
    {
     "data": {
      "image/png": "[encoded data removed]",
      "text/plain": [
       "<Figure size 640x480 with 1 Axes>"
      ]
     },
     "metadata": {},
     "output_type": "display_data"
    },
    {
     "name": "stdout",
     "output_type": "stream",
     "text": [
      "predicted theta : [-0.569 -0.741  1.816  0.043]\n",
      "MSE is : 0.06059406757738022\n",
      "final loss is : 0.24175994375406673\n",
      "R squared : 0.7496561460005663\n",
      "Accuracy:  0.98\n"
     ]
    }
   ],
   "source": [
    "\n",
    "theta, loss_history = fit(X, Y, regLambda = 0.02, alpha = 0.01, epsilon = 2e-4, maxNumIters = 10000) # calculating theta and loss of each iteration\n",
    "\n",
    "### START CODE HERE ###\n",
    "plt.plot(loss_history)\n",
    "plt.show()\n",
    "print (\"predicted theta :\" , theta)\n",
    "### END CODE HERE ###\n",
    "\n",
    "m,n = X.shape\n",
    "\n",
    "# evaluating goodness of model\n",
    "y_pred = sigmoid(np.dot(X, theta))\n",
    "print (\"MSE is :\" ,sum((y_pred - Y)**2)/m)\n",
    "final_loss = computeCost(theta, X, Y, 0.01)\n",
    "print (\"final loss is :\" , final_loss)\n",
    "R_squared = 1 - (sum((y_pred - Y)**2)/sum((Y - np.mean(Y))**2))\n",
    "print (\"R squared :\" , R_squared)\n",
    "\n",
    "\n",
    "binary_prediction = np.round(y_pred)\n",
    "correct_prediction = np.sum(binary_prediction == Y)\n",
    "print(\"Accuracy: \", correct_prediction/m)\n",
    "\n",
    "\n"
   ]
  },
  {
   "cell_type": "markdown",
   "id": "f4b3fab6",
   "metadata": {},
   "source": [
    "### Testing Your Implementation\n",
    "To test your logistic regression implementation, first you should use `train_test_split` function to split dataset into three parts:\n",
    "\n",
    "- 70% for the training set\n",
    "- 20% for the validation set\n",
    "- 10% for the test set\n",
    "\n",
    "Do this in the cell below."
   ]
  },
  {
   "cell_type": "code",
   "execution_count": 11,
   "id": "4518fe11",
   "metadata": {},
   "outputs": [
    {
     "name": "stdout",
     "output_type": "stream",
     "text": [
      "Training set shape: (7000, 4)\n",
      "Validation set shape: (2000, 4)\n",
      "Test set shape: (1000, 4)\n"
     ]
    }
   ],
   "source": [
    "X_train, Y_train, X_val, Y_val, X_test, Y_test = None, None, None, None, None, None\n",
    "\n",
    "### START CODE HERE ###\n",
    "\n",
    "# Split the dataset into training (70%), validation (20%), and test (10%) sets\n",
    "X_train_temp, X_test, Y_train_temp, Y_test = train_test_split(X, Y, test_size=0.1, random_state=42)\n",
    "X_train, X_val, Y_train, Y_val = train_test_split(X_train_temp, Y_train_temp, test_size=2/9, random_state=42)\n",
    "\n",
    "# Display the shapes of the resulting sets\n",
    "print(\"Training set shape:\", X_train.shape)\n",
    "print(\"Validation set shape:\", X_val.shape)\n",
    "print(\"Test set shape:\", X_test.shape)\n",
    "### END CODE HERE ###"
   ]
  },
  {
   "cell_type": "markdown",
   "id": "f9fbe5d7",
   "metadata": {},
   "source": [
    "Then, you should complete `predict` function to find the weight vector and the loss on the test data."
   ]
  },
  {
   "cell_type": "code",
   "execution_count": 12,
   "id": "95c2fe20",
   "metadata": {},
   "outputs": [],
   "source": [
    "def predict(X, theta):\n",
    "    '''\n",
    "    Use the model to predict values for each instance in X\n",
    "    Arguments:\n",
    "        theta is d-dimensional numpy vector\n",
    "        X     is a n-by-d numpy matrix\n",
    "    Returns:\n",
    "        an n-dimensional numpy vector of the predictions, the output should be binary (use h_theta > .5)\n",
    "    '''\n",
    "    \n",
    "    Y = None\n",
    "    ### START CODE HERE ###\n",
    "    h = sigmoid(np.dot(X, theta))\n",
    "    Y = h>0.5\n",
    "    ### END CODE HERE ###\n",
    "    return Y"
   ]
  },
  {
   "cell_type": "markdown",
   "id": "246d1c02",
   "metadata": {},
   "source": [
    "Now, run the `fit` and `predict` function for different values of the learning rate and regularization constant. Plot the `loss_history` of these different values for train and test data both in the same figure.\n",
    "\n",
    "**Question**: Discuss the effect of the learning rate and regularization constant and find the best values of these parameters.\n",
    "\n",
    "**Answer**: laege amoung of regularization constant will rezult in underfittig, becuse large size of dataset, there is not much overfitting risk even with very small amount of regularization constant. to some extent, increasing learning rate will result in faster convergece, excessive amounts of learning rate will cause model to diverge.\n"
   ]
  },
  {
   "cell_type": "code",
   "execution_count": 23,
   "id": "cd2af382",
   "metadata": {},
   "outputs": [
    {
     "data": {
      "image/png": "[encoded data removed]",
      "text/plain": [
       "<Figure size 640x480 with 1 Axes>"
      ]
     },
     "metadata": {},
     "output_type": "display_data"
    },
    {
     "name": "stdout",
     "output_type": "stream",
     "text": [
      "The optimal regularization constant is: 0.00379269019073225\n",
      "maximum accuracy is: 0.991\n"
     ]
    }
   ],
   "source": [
    "### START CODE HERE ###\n",
    "Max_itration = 2000\n",
    "# *******************part 1 : finding optimal values of regularization constant *********************\n",
    "regularization_constants = np.logspace(-4,1,20)\n",
    "accuracy = np.zeros_like(regularization_constants)\n",
    "cnt = 0\n",
    "for RC in regularization_constants :\n",
    "    theta, loss_history = fit(X_train, Y_train, regLambda = RC, alpha = 0.02, epsilon = 2e-4, maxNumIters = Max_itration) # calculating theta and loss of each iteration\n",
    "    test_prediction = predict(X_test,theta) # predicting on test set\n",
    "    # measuring accuracy on test set for different values of regularization constant\n",
    "    binary_prediction = np.round(test_prediction)\n",
    "    correct_prediction = np.sum(binary_prediction == Y_test)\n",
    "    accuracy[cnt]=(correct_prediction/len(Y_test))\n",
    "    cnt +=1\n",
    "\n",
    "plt.semilogx(regularization_constants,accuracy)\n",
    "plt.xlabel('Regularization constant')\n",
    "plt.ylabel('Accuracy')\n",
    "plt.title('Accuracy vs Regularization constant (log scale)')\n",
    "plt.show()\n",
    "#finding optimal regularization constant\n",
    "optimal_RC = regularization_constants[np.argmax(accuracy)]\n",
    "print(\"The optimal regularization constant is:\", optimal_RC)\n",
    "print(\"maximum accuracy is:\", np.max(accuracy))\n",
    "\n",
    "\n",
    "\n",
    "### END CODE HERE ###"
   ]
  },
  {
   "cell_type": "code",
   "execution_count": 14,
   "metadata": {},
   "outputs": [
    {
     "data": {
      "image/png": "[encoded data removed]",
      "text/plain": [
       "<Figure size 640x480 with 1 Axes>"
      ]
     },
     "metadata": {},
     "output_type": "display_data"
    }
   ],
   "source": [
    "# ****************** part 2 : changing value of learning rate *********************\n",
    "Max_itration = 1000\n",
    "\n",
    "optimal_RC = regularization_constants[np.argmax(accuracy)]\n",
    "\n",
    "learning_rates = np.logspace(-3,1,5)\n",
    "loss_histories = np.zeros((len(learning_rates),Max_itration))\n",
    "cnt = 0\n",
    "\n",
    "\n",
    "\n",
    "for LR in learning_rates :\n",
    "    theta, loss_history = fit(X_train, Y_train, regLambda = optimal_RC, alpha = LR, epsilon = 2e-4, maxNumIters = Max_itration) # calculating theta and loss of each iteration\n",
    "    loss_history = np.pad(loss_history, (0,Max_itration-len(loss_history)), 'constant')\n",
    "    loss_histories[cnt,:] = loss_history\n",
    "    plt.plot(loss_history, label=LR)\n",
    "    cnt +=1\n",
    "plt.legend()\n",
    "plt.xlabel('iteration')\n",
    "plt.ylabel('Loss')\n",
    "plt.title('Loss vs Iterations for different learning rates with optimal regularization constant')\n",
    "plt.show()"
   ]
  },
  {
   "cell_type": "markdown",
   "id": "11babf15",
   "metadata": {},
   "source": [
    "## Naive Bayes\n",
    "\n",
    "In this part, you will use the `GaussianNB` classifier to classify the data. You should not change the default parameters of this classifier. First, train the classifier on the training set and then find the accuracy of it on the test set.\n",
    "\n",
    "**Question**: What is the accuracy of this method on test set?\n",
    "\n",
    "**Answer**: 0.921 precent"
   ]
  },
  {
   "cell_type": "code",
   "execution_count": 15,
   "id": "1ef450fb",
   "metadata": {},
   "outputs": [
    {
     "name": "stdout",
     "output_type": "stream",
     "text": [
      "Accuracy of Gaussian Naive Bayes classifier: 0.921\n"
     ]
    }
   ],
   "source": [
    "### START CODE HERE ###\n",
    "\n",
    "# Initialize the Gaussian Naive Bayes classifier\n",
    "gnb = GaussianNB()\n",
    "\n",
    "# Train the classifier on the training set\n",
    "gnb.fit(X_train, Y_train)\n",
    "\n",
    "# Predict the labels for the test set\n",
    "Y_pred = gnb.predict(X_test)\n",
    "\n",
    "\n",
    "# Calculate the accuracy of the classifier on the test set\n",
    "accuracy = accuracy_score(Y_test, Y_pred)\n",
    "print(\"Accuracy of Gaussian Naive Bayes classifier:\", accuracy)\n",
    "### END CODE HERE ###"
   ]
  },
  {
   "cell_type": "markdown",
   "id": "b371657d",
   "metadata": {},
   "source": [
    "## LDA (Linear Discriminant Analysis)\n",
    "\n",
    "In this part, you will use the `LinearDiscriminantAnalysis` classifier to classify the data. You should not change the default parameters of this classifier. First, train the classifier on the training set and then find the accuracy of it on the test set.\n",
    "\n",
    "**Question**: What is the accuracy of this method on test set?\n",
    "\n",
    "**Answer**: 0.97 percent"
   ]
  },
  {
   "cell_type": "code",
   "execution_count": 16,
   "id": "92cc8743",
   "metadata": {},
   "outputs": [
    {
     "name": "stdout",
     "output_type": "stream",
     "text": [
      "Accuracy of Linear Discriminant Analysis classifier: 0.97\n"
     ]
    }
   ],
   "source": [
    "### START CODE HERE ###\n",
    "\n",
    "# Initialize the Linear Discriminant Analysis classifier\n",
    "lda = LinearDiscriminantAnalysis()\n",
    "\n",
    "# Train the classifier on the training set\n",
    "lda.fit(X_train, Y_train)\n",
    "\n",
    "# Predict the labels for the test set\n",
    "Y_pred = lda.predict(X_test)\n",
    "\n",
    "# Calculate the accuracy of the classifier on the test set\n",
    "accuracy = accuracy_score(Y_test, Y_pred)\n",
    "print(\"Accuracy of Linear Discriminant Analysis classifier:\", accuracy)\n",
    "\n",
    "### END CODE HERE ###"
   ]
  },
  {
   "cell_type": "markdown",
   "id": "47736bdf",
   "metadata": {},
   "source": [
    "## Conclution\n",
    "\n",
    "**Question**: What is the best method for classifying this dataset? What is the best accuracy on the test set?\n",
    "\n",
    "**Answer**: regularized logistic regression with optimal regularization constant was able to perform at 0.991 accuracy, which is higher than both naive base and LDA, and as it is expected, LDA performs better than Naive (0.97 vs 0.92)"
   ]
  }
 ],
 "metadata": {
  "kernelspec": {
   "display_name": "Python 3 (ipykernel)",
   "language": "python",
   "name": "python3"
  },
  "language_info": {
   "codemirror_mode": {
    "name": "ipython",
    "version": 3
   },
   "file_extension": ".py",
   "mimetype": "text/x-python",
   "name": "python",
   "nbconvert_exporter": "python",
   "pygments_lexer": "ipython3",
   "version": "3.11.5"
  }
 },
 "nbformat": 4,
 "nbformat_minor": 5
}
